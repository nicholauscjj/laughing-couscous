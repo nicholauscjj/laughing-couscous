{
  "nbformat": 4,
  "nbformat_minor": 0,
  "metadata": {
    "colab": {
      "name": "Question 3.ipynb",
      "provenance": [],
      "collapsed_sections": [],
      "authorship_tag": "ABX9TyPj5XzV75+fBoIfAEs/xJqG",
      "include_colab_link": true
    },
    "kernelspec": {
      "name": "python3",
      "display_name": "Python 3"
    },
    "language_info": {
      "name": "python"
    }
  },
  "cells": [
    {
      "cell_type": "markdown",
      "metadata": {
        "id": "view-in-github",
        "colab_type": "text"
      },
      "source": [
        "<a href=\"https://colab.research.google.com/github/nicholauscjj/laughingcouscous/blob/main/Question_3.ipynb\" target=\"_parent\"><img src=\"https://colab.research.google.com/assets/colab-badge.svg\" alt=\"Open In Colab\"/></a>"
      ]
    },
    {
      "cell_type": "code",
      "source": [
        "!git clone https://github.com/nicholauscjj/laughingcouscous.git -q"
      ],
      "metadata": {
        "id": "cvivw6rGb2SZ"
      },
      "execution_count": null,
      "outputs": []
    },
    {
      "cell_type": "code",
      "execution_count": null,
      "metadata": {
        "id": "V_jDsmxul9ks"
      },
      "outputs": [],
      "source": [
        "import numpy as np\n",
        "import pandas as pd\n",
        "from matplotlib import pyplot as plt\n",
        "from sklearn.mixture import GaussianMixture\n",
        "from sklearn.cluster import KMeans\n",
        "from sklearn import metrics\n",
        "from laughingcouscous.draw import plot_gmm, plot_kmeans"
      ]
    },
    {
      "cell_type": "code",
      "source": [
        "data = np.array([[2.25,3.47],\n",
        "                 [4.71,3.60],\n",
        "                 [3.17,4.96],\n",
        "                 [2.32,1.63],\n",
        "                 [2.31,2.09],\n",
        "                 [1.14,2.11],\n",
        "                 [1.90,0.97],\n",
        "                 [1.76,0.84],\n",
        "                 [5.02,3.02],\n",
        "                 [5.74,3.84]])\n",
        "\n",
        "init_weight = np.full(data.shape[1], 0.5)\n",
        "indexing = np.arange(1,11)"
      ],
      "metadata": {
        "id": "HzGit4j_mDUR"
      },
      "execution_count": null,
      "outputs": []
    },
    {
      "cell_type": "code",
      "source": [
        "gmm = GaussianMixture(n_components=2, weights_init=init_weight, verbose=0)\n",
        "gmm.fit(data)"
      ],
      "metadata": {
        "colab": {
          "base_uri": "https://localhost:8080/"
        },
        "id": "rBdFJLL4vP7i",
        "outputId": "547bcdf6-1f2e-4cbb-853b-9db58bd1e58b"
      },
      "execution_count": null,
      "outputs": [
        {
          "output_type": "execute_result",
          "data": {
            "text/plain": [
              "GaussianMixture(n_components=2, weights_init=array([0.5, 0.5]))"
            ]
          },
          "metadata": {},
          "execution_count": 4
        }
      ]
    },
    {
      "cell_type": "code",
      "source": [
        "plot_gmm(gmm, data, indexing)"
      ],
      "metadata": {
        "colab": {
          "base_uri": "https://localhost:8080/",
          "height": 265
        },
        "id": "V3H0uZ8dv_xK",
        "outputId": "fd10489a-2243-4d2f-c461-a294d62e76a9"
      },
      "execution_count": null,
      "outputs": [
        {
          "output_type": "display_data",
          "data": {
            "image/png": "[encoded data removed]",
            "text/plain": [
              "<Figure size 432x288 with 1 Axes>"
            ]
          },
          "metadata": {
            "needs_background": "light"
          }
        }
      ]
    },
    {
      "cell_type": "code",
      "source": [
        "prediction = gmm.predict(data)\n",
        "\n",
        "for i in range(data.shape[0]):\n",
        "  print('Data {} belongs to class: {}'.format(i+1, int(prediction[i])))"
      ],
      "metadata": {
        "colab": {
          "base_uri": "https://localhost:8080/"
        },
        "id": "rvk8crk2-Jcq",
        "outputId": "7ced847e-6804-4419-c19a-726ce3a7dbf4"
      },
      "execution_count": null,
      "outputs": [
        {
          "output_type": "stream",
          "name": "stdout",
          "text": [
            "Data 1 belongs to class: 0\n",
            "Data 2 belongs to class: 1\n",
            "Data 3 belongs to class: 1\n",
            "Data 4 belongs to class: 0\n",
            "Data 5 belongs to class: 0\n",
            "Data 6 belongs to class: 0\n",
            "Data 7 belongs to class: 0\n",
            "Data 8 belongs to class: 0\n",
            "Data 9 belongs to class: 1\n",
            "Data 10 belongs to class: 1\n"
          ]
        }
      ]
    },
    {
      "cell_type": "markdown",
      "source": [
        "\n",
        "\n",
        "---\n",
        "\n"
      ],
      "metadata": {
        "id": "uMNAqJCMCcP_"
      }
    },
    {
      "cell_type": "code",
      "source": [
        "#assuming the ground truth is obtained as follows:\n",
        "\n",
        "init_point = np.concatenate(([data[0]],[data[-1]]), axis=0)\n",
        "\n",
        "kmeans = KMeans(n_clusters=2, n_init=1, init=init_point, verbose=0)\n",
        "kmeans.fit(data)"
      ],
      "metadata": {
        "colab": {
          "base_uri": "https://localhost:8080/"
        },
        "id": "jAcw6xax-X6j",
        "outputId": "663c0e8a-8631-4894-a24f-81c2fea1be4a"
      },
      "execution_count": null,
      "outputs": [
        {
          "output_type": "execute_result",
          "data": {
            "text/plain": [
              "KMeans(init=array([[2.25, 3.47],\n",
              "       [5.74, 3.84]]), n_clusters=2, n_init=1)"
            ]
          },
          "metadata": {},
          "execution_count": 7
        }
      ]
    },
    {
      "cell_type": "code",
      "source": [
        "groundtruth = kmeans.predict(data)"
      ],
      "metadata": {
        "id": "Op7cdcZ2-tJc"
      },
      "execution_count": null,
      "outputs": []
    },
    {
      "cell_type": "code",
      "source": [
        "contingency_matrix = metrics.cluster.contingency_matrix(groundtruth, prediction)\n",
        "\n",
        "purity_index = np.sum(np.amax(contingency_matrix, axis=0)) / np.sum(contingency_matrix) \n",
        "rand_index = metrics.rand_score(groundtruth, prediction)\n",
        "print('purity index: {}, rand_index: {}'.format(purity_index, rand_index))"
      ],
      "metadata": {
        "colab": {
          "base_uri": "https://localhost:8080/"
        },
        "id": "Gf_F8tvgApAP",
        "outputId": "70a16694-3962-4950-c713-4e06b1ecd464"
      },
      "execution_count": null,
      "outputs": [
        {
          "output_type": "stream",
          "name": "stdout",
          "text": [
            "purity index: 1.0, rand_index: 1.0\n"
          ]
        }
      ]
    },
    {
      "cell_type": "code",
      "source": [
        "contingency_matrix"
      ],
      "metadata": {
        "colab": {
          "base_uri": "https://localhost:8080/"
        },
        "id": "44aEkU6QAxei",
        "outputId": "3af8e1c0-80f2-40da-eaed-7cf264c1bbf0"
      },
      "execution_count": null,
      "outputs": [
        {
          "output_type": "execute_result",
          "data": {
            "text/plain": [
              "array([[6, 0],\n",
              "       [0, 4]])"
            ]
          },
          "metadata": {},
          "execution_count": 10
        }
      ]
    },
    {
      "cell_type": "code",
      "source": [
        "plot_kmeans(kmeans, data, n_clusters=2)"
      ],
      "metadata": {
        "colab": {
          "base_uri": "https://localhost:8080/",
          "height": 265
        },
        "id": "LB9YwLrzBeRs",
        "outputId": "7b35b578-d277-44e2-d19d-9cd8c909696f"
      },
      "execution_count": null,
      "outputs": [
        {
          "output_type": "display_data",
          "data": {
            "image/png": "[encoded data removed]",
            "text/plain": [
              "<Figure size 432x288 with 1 Axes>"
            ]
          },
          "metadata": {
            "needs_background": "light"
          }
        }
      ]
    }
  ]
}